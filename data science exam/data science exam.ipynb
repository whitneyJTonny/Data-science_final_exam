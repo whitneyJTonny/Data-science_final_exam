{
 "cells": [
  {
   "cell_type": "code",
   "execution_count": 2,
   "id": "11cc3557-61af-4a57-9dea-e43005d66e0e",
   "metadata": {},
   "outputs": [],
   "source": [
    "import numpy as np"
   ]
  },
  {
   "cell_type": "code",
   "execution_count": 3,
   "id": "68c4cfb2",
   "metadata": {},
   "outputs": [],
   "source": [
    "import pandas as pd"
   ]
  },
  {
   "cell_type": "code",
   "execution_count": 4,
   "id": "6aeeafa2",
   "metadata": {},
   "outputs": [],
   "source": [
    "import seaborn as sns"
   ]
  },
  {
   "cell_type": "markdown",
   "id": "a4f630f2",
   "metadata": {},
   "source": [
    "No.4a)"
   ]
  },
  {
   "cell_type": "code",
   "execution_count": 5,
   "id": "ff2e7f1e",
   "metadata": {},
   "outputs": [
    {
     "name": "stdout",
     "output_type": "stream",
     "text": [
      "[[0.90463045 0.95260562]\n",
      " [0.90648631 0.94642694]\n",
      " [0.65405314 0.29153188]\n",
      " [0.83353536 0.51588137]\n",
      " [0.62699909 0.47026834]]\n"
     ]
    }
   ],
   "source": [
    "matrix1 = np.random.rand(5,3)\n",
    "matrix2 = np.random.rand(3,2)\n",
    "matrix3 = np.dot(matrix1,matrix2)\n",
    "print(matrix3)# in finding the product, we use the dot function to multiply"
   ]
  },
  {
   "cell_type": "markdown",
   "id": "cb781744",
   "metadata": {},
   "source": [
    "No.4b)"
   ]
  },
  {
   "cell_type": "code",
   "execution_count": 6,
   "id": "b9983b6e",
   "metadata": {},
   "outputs": [
    {
     "name": "stdout",
     "output_type": "stream",
     "text": [
      "[[1. 0. 0.]\n",
      " [0. 1. 0.]\n",
      " [0. 0. 1.]]\n"
     ]
    }
   ],
   "source": [
    "Identity_matrix = np.eye(3)\n",
    "print(Identity_matrix)#in identifying the matrix we use the .eye and the major diagonal numbers have to be one"
   ]
  },
  {
   "cell_type": "markdown",
   "id": "4724e203",
   "metadata": {},
   "source": [
    "No.4c)"
   ]
  },
  {
   "cell_type": "code",
   "execution_count": 7,
   "id": "73f7fa8a",
   "metadata": {},
   "outputs": [
    {
     "name": "stdout",
     "output_type": "stream",
     "text": [
      "[10 11 12 13 14 15 16 17 18 19 20 21 22 23 24 25 26 27 28 29 30 31 32 33\n",
      " 34 35 36 37 38 39 40 41 42 43 44 45 46 47 48 49]\n"
     ]
    }
   ],
   "source": [
    "vector = np.arange(10,50)#as in python when we are using the range, we follow the start point which is 10 \n",
    "#for our case and the stop value but we have to indicate a number greater than what they have told us to end on.\n",
    "print(vector)"
   ]
  },
  {
   "cell_type": "markdown",
   "id": "d67e4e7b",
   "metadata": {},
   "source": [
    "No.4d)"
   ]
  },
  {
   "cell_type": "code",
   "execution_count": 8,
   "id": "f31f0abd",
   "metadata": {},
   "outputs": [
    {
     "name": "stdout",
     "output_type": "stream",
     "text": [
      "[0. 0. 0. 0. 0. 0. 0. 0. 0. 0.]\n"
     ]
    }
   ],
   "source": [
    "null_vector = np.zeros(10)#for these case we use the .zeros and we indicate the size given to us in parameters\n",
    "print(null_vector)"
   ]
  },
  {
   "cell_type": "markdown",
   "id": "c58ab038",
   "metadata": {},
   "source": [
    "No.4e)"
   ]
  },
  {
   "cell_type": "code",
   "execution_count": 9,
   "id": "57b556f7",
   "metadata": {},
   "outputs": [
    {
     "name": "stdout",
     "output_type": "stream",
     "text": [
      "[[[0.10967504 0.24058953 0.16494573]\n",
      "  [0.57394389 0.56662676 0.83075347]\n",
      "  [0.77947644 0.34874056 0.48820392]]\n",
      "\n",
      " [[0.67768115 0.98242346 0.14075408]\n",
      "  [0.08215232 0.61536025 0.66403905]\n",
      "  [0.49675623 0.28709144 0.43226417]]\n",
      "\n",
      " [[0.68573972 0.77622945 0.92786172]\n",
      "  [0.22662176 0.14907348 0.52476149]\n",
      "  [0.58743922 0.96192447 0.64098252]]]\n"
     ]
    }
   ],
   "source": [
    "matrix = np.random.rand(3,3,3)#as they have told us to create a 3 by 3 by 3 matrix, with random values, it produces 3 different matrices\n",
    "print(matrix)"
   ]
  },
  {
   "cell_type": "markdown",
   "id": "25027e6b",
   "metadata": {},
   "source": [
    "No.4f)"
   ]
  },
  {
   "cell_type": "code",
   "execution_count": 10,
   "id": "0ee56297",
   "metadata": {},
   "outputs": [
    {
     "name": "stdout",
     "output_type": "stream",
     "text": [
      "[[0 0 0 0 0]\n",
      " [1 0 0 0 0]\n",
      " [0 2 0 0 0]\n",
      " [0 0 3 0 0]\n",
      " [0 0 0 4 0]]\n"
     ]
    }
   ],
   "source": [
    "matrix = np.diag(np.arange(1, 5), k=-1)#we use diag to form numbers on the diagonal and go ahead and give it the range using arange but we also use the k=-1, to subtract one random value from it and it is formed at the end and below the major diagonal\n",
    "print(matrix)"
   ]
  },
  {
   "cell_type": "markdown",
   "id": "dc21b111",
   "metadata": {},
   "source": [
    "No.4g)"
   ]
  },
  {
   "cell_type": "code",
   "execution_count": 11,
   "id": "488184f1",
   "metadata": {},
   "outputs": [
    {
     "name": "stdout",
     "output_type": "stream",
     "text": [
      "[[0.07523906 0.58390244 0.         0.43724596 0.38676462]\n",
      " [0.52982377 0.94601396 0.96384072 0.52382484 0.71257004]\n",
      " [0.03171892 0.05889668 1.         0.85113644 0.22828501]\n",
      " [0.48121247 0.85249973 0.40061411 0.94146396 0.12962642]\n",
      " [0.88841098 0.1481564  0.67091794 0.17044421 0.05468357]]\n"
     ]
    }
   ],
   "source": [
    "random_matrix = np.random.rand(5, 5)\n",
    "normalized = (random_matrix - random_matrix.min()) / (random_matrix.max() - random_matrix.min())\n",
    "print(normalized)#we get the random_matrix and subtract it from the minor_matrix.min and divide the \n",
    "#difference of the random_matrix.max and that of the random_matrix. min"
   ]
  },
  {
   "cell_type": "markdown",
   "id": "deb01e69",
   "metadata": {},
   "source": [
    "No.4h)"
   ]
  },
  {
   "cell_type": "code",
   "execution_count": 12,
   "id": "cea2cbf1",
   "metadata": {},
   "outputs": [
    {
     "name": "stdout",
     "output_type": "stream",
     "text": [
      "2024-12-14\n",
      "2024-12-13\n",
      "2024-12-12\n"
     ]
    }
   ],
   "source": [
    "import datetime#we import the library of datetime which helps us to get the ates of the days\n",
    "today = datetime.date.today()\n",
    "yesterday = today - datetime.timedelta(days=1)#to get a yesterday, we subtract a 1\n",
    "tomorrow = today + datetime.timedelta(days=1)#we add a 1 to know the day tomorrow\n",
    "print(tomorrow )\n",
    "print(today)\n",
    "print(yesterday)"
   ]
  },
  {
   "cell_type": "markdown",
   "id": "e051f03b",
   "metadata": {},
   "source": [
    "No.4i)"
   ]
  },
  {
   "cell_type": "code",
   "execution_count": 13,
   "id": "31b80e60",
   "metadata": {},
   "outputs": [
    {
     "name": "stdout",
     "output_type": "stream",
     "text": [
      "[0 1 4]\n"
     ]
    }
   ],
   "source": [
    "array = np.array([1, 2, 0, 0, 4, 0])\n",
    "non_zero_indices = np.nonzero(array)#when finding the non zeros in the indices, we use the .nonzero as we used to find the zeros in No.4d)\n",
    "print(non_zero_indices[0])\n"
   ]
  },
  {
   "cell_type": "markdown",
   "id": "de9bc5fd",
   "metadata": {},
   "source": [
    "No.3a)"
   ]
  },
  {
   "cell_type": "markdown",
   "id": "c26a90b3",
   "metadata": {},
   "source": [
    "1. We begin by importing the libraries which help us in storing data. for example;libraries such as numpy,pandas matplotlib and sklearn\n",
    "2. Prepare Data by selecting the target (y) and features (X)\n",
    "3. We split Data which we use in the testing to split data into the training and test sets\n",
    "4. We can go on and train the Model where by instantiate the model (LinearRegression()) and fit it using the training data.\n",
    "5. And lastly we Evaluate the performance using matrices like MSE or MAE."
   ]
  },
  {
   "cell_type": "markdown",
   "id": "2f5bed66",
   "metadata": {},
   "source": [
    "No.3b)"
   ]
  },
  {
   "cell_type": "markdown",
   "id": "2544e99d",
   "metadata": {},
   "source": [
    "#There is a linear relationship between dependent and independent variables.\n",
    "#The homoscedasticity where by there's a constant variance of the error terms.\n",
    "#Independence; where the residuals are independent.\n",
    "#Normality;and the residuals are normally distributed.\n",
    "#There's no multicollinearity where the independent variables are not highly correlated.\n"
   ]
  },
  {
   "cell_type": "markdown",
   "id": "1a024dd5",
   "metadata": {},
   "source": [
    "No.3c)"
   ]
  },
  {
   "cell_type": "code",
   "execution_count": 18,
   "id": "48f95b04",
   "metadata": {},
   "outputs": [],
   "source": [
    "import numpy as np\n",
    "import pandas as pd\n",
    "from sklearn.model_selection import train_test_split\n",
    "from sklearn.linear_model import LinearRegression\n",
    "from sklearn.metrics import mean_squared_error, r2_score\n",
    "import matplotlib.pyplot as plt"
   ]
  },
  {
   "cell_type": "code",
   "execution_count": 22,
   "id": "445eb95e",
   "metadata": {},
   "outputs": [
    {
     "name": "stdout",
     "output_type": "stream",
     "text": [
      "   StudyHours  Scores\n",
      "0           1      35\n",
      "1           2      42\n",
      "2           3      50\n",
      "3           4      55\n",
      "4           5      61\n",
      "5           6      66\n",
      "6           7      71\n",
      "7           8      75\n",
      "8           9      82\n",
      "9          10      88\n"
     ]
    }
   ],
   "source": [
    "# Simulated dataset\n",
    "data = {\n",
    "    'StudyHours': [1, 2, 3, 4, 5, 6, 7, 8, 9, 10],\n",
    "    'Scores': [35, 42, 50, 55, 61, 66, 71, 75, 82, 88]\n",
    "}\n",
    "\n",
    "df = pd.DataFrame(data)\n",
    "print(df)"
   ]
  },
  {
   "cell_type": "code",
   "execution_count": 23,
   "id": "6f0f2af5",
   "metadata": {},
   "outputs": [
    {
     "name": "stdout",
     "output_type": "stream",
     "text": [
      "Training Data:\n",
      "    StudyHours\n",
      "5           6\n",
      "0           1\n",
      "7           8\n",
      "2           3\n",
      "9          10\n",
      "4           5\n",
      "3           4\n",
      "6           7\n",
      "Testing Data:\n",
      "    StudyHours\n",
      "8           9\n",
      "1           2\n"
     ]
    }
   ],
   "source": [
    "# Features (independent variable) and target (dependent variable)\n",
    "X = df[['StudyHours']]  # Independent variable\n",
    "y = df['Scores']        # Dependent variable\n",
    "\n",
    "# Split into training and testing sets\n",
    "X_train, X_test, y_train, y_test = train_test_split(X, y, test_size=0.2, random_state=42)\n",
    "\n",
    "print(\"Training Data:\\n\", X_train)\n",
    "print(\"Testing Data:\\n\", X_test)"
   ]
  },
  {
   "cell_type": "markdown",
   "id": "de41e997",
   "metadata": {},
   "source": [
    "No.3d)"
   ]
  },
  {
   "cell_type": "code",
   "execution_count": 26,
   "id": "03dad810",
   "metadata": {},
   "outputs": [
    {
     "name": "stdout",
     "output_type": "stream",
     "text": [
      "Intercept (β0): 31.568965517241377\n",
      "Coefficient (β1): 5.6465517241379315\n"
     ]
    }
   ],
   "source": [
    "# Initialize the Linear Regression model\n",
    "model = LinearRegression()\n",
    "\n",
    "# Train the model\n",
    "model.fit(X_train, y_train)\n",
    "\n",
    "# Model coefficients\n",
    "print(\"Intercept (β0):\", model.intercept_)\n",
    "print(\"Coefficient (β1):\", model.coef_[0])"
   ]
  },
  {
   "cell_type": "code",
   "execution_count": 27,
   "id": "fb2559fb",
   "metadata": {},
   "outputs": [
    {
     "name": "stdout",
     "output_type": "stream",
     "text": [
      "   Actual  Predicted\n",
      "8      82  82.387931\n",
      "1      42  42.862069\n"
     ]
    }
   ],
   "source": [
    "# Predict scores for the testing set\n",
    "y_pred = model.predict(X_test)\n",
    "\n",
    "# Display actual vs. predicted scores\n",
    "results = pd.DataFrame({'Actual': y_test, 'Predicted': y_pred})\n",
    "print(results)"
   ]
  },
  {
   "cell_type": "code",
   "execution_count": 28,
   "id": "9ceaeedb",
   "metadata": {},
   "outputs": [],
   "source": [
    "# Evaluate model performance\n",
    "mse = mean_squared_error(y_test, y_pred)\n",
    "r2 = r2_score(y_test, y_pred)"
   ]
  },
  {
   "cell_type": "markdown",
   "id": "f1286a79",
   "metadata": {},
   "source": [
    "No.3e)"
   ]
  },
  {
   "cell_type": "markdown",
   "id": "b46f54b1",
   "metadata": {},
   "source": [
    "#Coefficients: Represent the impact of each feature on the target.\n",
    "#Intercept: The value of the target when all features are zero.\n",
    "#R²: How well the model explains the variability of the target.\n",
    "#p-values: Significance of each feature.\n"
   ]
  },
  {
   "cell_type": "code",
   "execution_count": 29,
   "id": "9284eb88",
   "metadata": {},
   "outputs": [
    {
     "data": {
      "image/png": "[encoded data removed]",
      "text/plain": [
       "<Figure size 640x480 with 1 Axes>"
      ]
     },
     "metadata": {},
     "output_type": "display_data"
    }
   ],
   "source": [
    "# Plot the data and the regression line\n",
    "plt.scatter(X, y, color='blue', label='Actual Data')\n",
    "plt.plot(X, model.predict(X), color='red', label='Regression Line')\n",
    "\n",
    "plt.title(\"Linear Regression: Study Hours vs. Scores\")\n",
    "plt.xlabel(\"Study Hours\")\n",
    "plt.ylabel(\"Scores\")\n",
    "plt.legend()\n",
    "plt.show()"
   ]
  },
  {
   "cell_type": "markdown",
   "id": "3c6aa249",
   "metadata": {},
   "source": [
    "No.1a)"
   ]
  },
  {
   "cell_type": "code",
   "execution_count": 30,
   "id": "20a9b1d5",
   "metadata": {},
   "outputs": [],
   "source": [
    "#We are likely asked to calculate measures of the central tendency such as;\n",
    "#Mean which is mean = df['income'].mean()\n",
    "#Median which is median = df['income'].median()\n",
    "#Mode which is mode = df['income'].mode()"
   ]
  },
  {
   "cell_type": "code",
   "execution_count": 35,
   "id": "48838223",
   "metadata": {},
   "outputs": [
    {
     "name": "stdout",
     "output_type": "stream",
     "text": [
      "Requirement already satisfied: pandas in c:\\users\\user\\appdata\\local\\programs\\python\\python313\\lib\\site-packages (2.2.3)\n",
      "Collecting openpyxl\n",
      "  Downloading openpyxl-3.1.5-py2.py3-none-any.whl.metadata (2.5 kB)\n",
      "Requirement already satisfied: numpy>=1.26.0 in c:\\users\\user\\appdata\\local\\programs\\python\\python313\\lib\\site-packages (from pandas) (2.1.3)\n",
      "Requirement already satisfied: python-dateutil>=2.8.2 in c:\\users\\user\\appdata\\roaming\\python\\python313\\site-packages (from pandas) (2.9.0.post0)\n",
      "Requirement already satisfied: pytz>=2020.1 in c:\\users\\user\\appdata\\local\\programs\\python\\python313\\lib\\site-packages (from pandas) (2024.2)\n",
      "Requirement already satisfied: tzdata>=2022.7 in c:\\users\\user\\appdata\\local\\programs\\python\\python313\\lib\\site-packages (from pandas) (2024.2)\n",
      "Collecting et-xmlfile (from openpyxl)\n",
      "  Downloading et_xmlfile-2.0.0-py3-none-any.whl.metadata (2.7 kB)\n",
      "Requirement already satisfied: six>=1.5 in c:\\users\\user\\appdata\\roaming\\python\\python313\\site-packages (from python-dateutil>=2.8.2->pandas) (1.16.0)\n",
      "Downloading openpyxl-3.1.5-py2.py3-none-any.whl (250 kB)\n",
      "Downloading et_xmlfile-2.0.0-py3-none-any.whl (18 kB)\n",
      "Installing collected packages: et-xmlfile, openpyxl\n",
      "Successfully installed et-xmlfile-2.0.0 openpyxl-3.1.5\n",
      "Note: you may need to restart the kernel to use updated packages.\n"
     ]
    },
    {
     "name": "stderr",
     "output_type": "stream",
     "text": [
      "\n",
      "[notice] A new release of pip is available: 24.2 -> 24.3.1\n",
      "[notice] To update, run: python.exe -m pip install --upgrade pip\n"
     ]
    }
   ],
   "source": [
    "pip install pandas openpyxl"
   ]
  },
  {
   "cell_type": "code",
   "execution_count": 37,
   "id": "6825e916",
   "metadata": {},
   "outputs": [
    {
     "ename": "ValueError",
     "evalue": "DataFrame constructor not properly called!",
     "output_type": "error",
     "traceback": [
      "\u001b[1;31m---------------------------------------------------------------------------\u001b[0m",
      "\u001b[1;31mValueError\u001b[0m                                Traceback (most recent call last)",
      "\u001b[1;32m~\\AppData\\Local\\Temp\\ipykernel_2504\\2587883737.py\u001b[0m in \u001b[0;36m?\u001b[1;34m()\u001b[0m\n\u001b[1;32m----> 1\u001b[1;33m \u001b[0mdf\u001b[0m \u001b[1;33m=\u001b[0m \u001b[0mpd\u001b[0m\u001b[1;33m.\u001b[0m\u001b[0mDataFrame\u001b[0m\u001b[1;33m(\u001b[0m\u001b[1;34m'\"Wages 2020Census cleaned.xlsx\"'\u001b[0m\u001b[1;33m)\u001b[0m\u001b[1;33m\u001b[0m\u001b[1;33m\u001b[0m\u001b[0m\n\u001b[0m\u001b[0;32m      2\u001b[0m \u001b[0mdf\u001b[0m\u001b[1;33m\u001b[0m\u001b[1;33m\u001b[0m\u001b[0m\n",
      "\u001b[1;32mc:\\Users\\USER\\AppData\\Local\\Programs\\Python\\Python313\\Lib\\site-packages\\pandas\\core\\frame.py\u001b[0m in \u001b[0;36m?\u001b[1;34m(self, data, index, columns, dtype, copy)\u001b[0m\n\u001b[0;32m    882\u001b[0m                 \u001b[1;33m)\u001b[0m\u001b[1;33m\u001b[0m\u001b[1;33m\u001b[0m\u001b[0m\n\u001b[0;32m    883\u001b[0m         \u001b[1;31m# For data is scalar\u001b[0m\u001b[1;33m\u001b[0m\u001b[1;33m\u001b[0m\u001b[0m\n\u001b[0;32m    884\u001b[0m         \u001b[1;32melse\u001b[0m\u001b[1;33m:\u001b[0m\u001b[1;33m\u001b[0m\u001b[1;33m\u001b[0m\u001b[0m\n\u001b[0;32m    885\u001b[0m             \u001b[1;32mif\u001b[0m \u001b[0mindex\u001b[0m \u001b[1;32mis\u001b[0m \u001b[1;32mNone\u001b[0m \u001b[1;32mor\u001b[0m \u001b[0mcolumns\u001b[0m \u001b[1;32mis\u001b[0m \u001b[1;32mNone\u001b[0m\u001b[1;33m:\u001b[0m\u001b[1;33m\u001b[0m\u001b[1;33m\u001b[0m\u001b[0m\n\u001b[1;32m--> 886\u001b[1;33m                 \u001b[1;32mraise\u001b[0m \u001b[0mValueError\u001b[0m\u001b[1;33m(\u001b[0m\u001b[1;34m\"DataFrame constructor not properly called!\"\u001b[0m\u001b[1;33m)\u001b[0m\u001b[1;33m\u001b[0m\u001b[1;33m\u001b[0m\u001b[0m\n\u001b[0m\u001b[0;32m    887\u001b[0m \u001b[1;33m\u001b[0m\u001b[0m\n\u001b[0;32m    888\u001b[0m             \u001b[0mindex\u001b[0m \u001b[1;33m=\u001b[0m \u001b[0mensure_index\u001b[0m\u001b[1;33m(\u001b[0m\u001b[0mindex\u001b[0m\u001b[1;33m)\u001b[0m\u001b[1;33m\u001b[0m\u001b[1;33m\u001b[0m\u001b[0m\n\u001b[0;32m    889\u001b[0m             \u001b[0mcolumns\u001b[0m \u001b[1;33m=\u001b[0m \u001b[0mensure_index\u001b[0m\u001b[1;33m(\u001b[0m\u001b[0mcolumns\u001b[0m\u001b[1;33m)\u001b[0m\u001b[1;33m\u001b[0m\u001b[1;33m\u001b[0m\u001b[0m\n",
      "\u001b[1;31mValueError\u001b[0m: DataFrame constructor not properly called!"
     ]
    }
   ],
   "source": [
    "df = pd.DataFrame('\"Wages 2020Census cleaned.xlsx\"')\n",
    "df"
   ]
  },
  {
   "cell_type": "code",
   "execution_count": 39,
   "id": "652ff056",
   "metadata": {},
   "outputs": [
    {
     "ename": "KeyError",
     "evalue": "'income'",
     "output_type": "error",
     "traceback": [
      "\u001b[1;31m---------------------------------------------------------------------------\u001b[0m",
      "\u001b[1;31mKeyError\u001b[0m                                  Traceback (most recent call last)",
      "File \u001b[1;32mc:\\Users\\USER\\AppData\\Local\\Programs\\Python\\Python313\\Lib\\site-packages\\pandas\\core\\indexes\\base.py:3805\u001b[0m, in \u001b[0;36mIndex.get_loc\u001b[1;34m(self, key)\u001b[0m\n\u001b[0;32m   3804\u001b[0m \u001b[38;5;28;01mtry\u001b[39;00m:\n\u001b[1;32m-> 3805\u001b[0m     \u001b[38;5;28;01mreturn\u001b[39;00m \u001b[38;5;28;43mself\u001b[39;49m\u001b[38;5;241;43m.\u001b[39;49m\u001b[43m_engine\u001b[49m\u001b[38;5;241;43m.\u001b[39;49m\u001b[43mget_loc\u001b[49m\u001b[43m(\u001b[49m\u001b[43mcasted_key\u001b[49m\u001b[43m)\u001b[49m\n\u001b[0;32m   3806\u001b[0m \u001b[38;5;28;01mexcept\u001b[39;00m \u001b[38;5;167;01mKeyError\u001b[39;00m \u001b[38;5;28;01mas\u001b[39;00m err:\n",
      "File \u001b[1;32mindex.pyx:167\u001b[0m, in \u001b[0;36mpandas._libs.index.IndexEngine.get_loc\u001b[1;34m()\u001b[0m\n",
      "File \u001b[1;32mindex.pyx:196\u001b[0m, in \u001b[0;36mpandas._libs.index.IndexEngine.get_loc\u001b[1;34m()\u001b[0m\n",
      "File \u001b[1;32mpandas\\\\_libs\\\\hashtable_class_helper.pxi:7081\u001b[0m, in \u001b[0;36mpandas._libs.hashtable.PyObjectHashTable.get_item\u001b[1;34m()\u001b[0m\n",
      "File \u001b[1;32mpandas\\\\_libs\\\\hashtable_class_helper.pxi:7089\u001b[0m, in \u001b[0;36mpandas._libs.hashtable.PyObjectHashTable.get_item\u001b[1;34m()\u001b[0m\n",
      "\u001b[1;31mKeyError\u001b[0m: 'income'",
      "\nThe above exception was the direct cause of the following exception:\n",
      "\u001b[1;31mKeyError\u001b[0m                                  Traceback (most recent call last)",
      "Cell \u001b[1;32mIn[39], line 1\u001b[0m\n\u001b[1;32m----> 1\u001b[0m std_dev \u001b[38;5;241m=\u001b[39m \u001b[43mdf\u001b[49m\u001b[43m[\u001b[49m\u001b[38;5;124;43m'\u001b[39;49m\u001b[38;5;124;43mincome\u001b[39;49m\u001b[38;5;124;43m'\u001b[39;49m\u001b[43m]\u001b[49m\u001b[38;5;241m.\u001b[39mstd()\n\u001b[0;32m      2\u001b[0m \u001b[38;5;28mrange\u001b[39m \u001b[38;5;241m=\u001b[39m df[\u001b[38;5;124m'\u001b[39m\u001b[38;5;124mincome\u001b[39m\u001b[38;5;124m'\u001b[39m]\u001b[38;5;241m.\u001b[39mmax() \u001b[38;5;241m-\u001b[39m df[\u001b[38;5;124m'\u001b[39m\u001b[38;5;124mincome\u001b[39m\u001b[38;5;124m'\u001b[39m]\u001b[38;5;241m.\u001b[39mmin()\n\u001b[0;32m      3\u001b[0m \u001b[38;5;66;03m#if values are significant, then the incomes vary. and if the standard deviation is very low or the range is small, the variation is low \u001b[39;00m\n",
      "File \u001b[1;32mc:\\Users\\USER\\AppData\\Local\\Programs\\Python\\Python313\\Lib\\site-packages\\pandas\\core\\frame.py:4102\u001b[0m, in \u001b[0;36mDataFrame.__getitem__\u001b[1;34m(self, key)\u001b[0m\n\u001b[0;32m   4100\u001b[0m \u001b[38;5;28;01mif\u001b[39;00m \u001b[38;5;28mself\u001b[39m\u001b[38;5;241m.\u001b[39mcolumns\u001b[38;5;241m.\u001b[39mnlevels \u001b[38;5;241m>\u001b[39m \u001b[38;5;241m1\u001b[39m:\n\u001b[0;32m   4101\u001b[0m     \u001b[38;5;28;01mreturn\u001b[39;00m \u001b[38;5;28mself\u001b[39m\u001b[38;5;241m.\u001b[39m_getitem_multilevel(key)\n\u001b[1;32m-> 4102\u001b[0m indexer \u001b[38;5;241m=\u001b[39m \u001b[38;5;28;43mself\u001b[39;49m\u001b[38;5;241;43m.\u001b[39;49m\u001b[43mcolumns\u001b[49m\u001b[38;5;241;43m.\u001b[39;49m\u001b[43mget_loc\u001b[49m\u001b[43m(\u001b[49m\u001b[43mkey\u001b[49m\u001b[43m)\u001b[49m\n\u001b[0;32m   4103\u001b[0m \u001b[38;5;28;01mif\u001b[39;00m is_integer(indexer):\n\u001b[0;32m   4104\u001b[0m     indexer \u001b[38;5;241m=\u001b[39m [indexer]\n",
      "File \u001b[1;32mc:\\Users\\USER\\AppData\\Local\\Programs\\Python\\Python313\\Lib\\site-packages\\pandas\\core\\indexes\\base.py:3812\u001b[0m, in \u001b[0;36mIndex.get_loc\u001b[1;34m(self, key)\u001b[0m\n\u001b[0;32m   3807\u001b[0m     \u001b[38;5;28;01mif\u001b[39;00m \u001b[38;5;28misinstance\u001b[39m(casted_key, \u001b[38;5;28mslice\u001b[39m) \u001b[38;5;129;01mor\u001b[39;00m (\n\u001b[0;32m   3808\u001b[0m         \u001b[38;5;28misinstance\u001b[39m(casted_key, abc\u001b[38;5;241m.\u001b[39mIterable)\n\u001b[0;32m   3809\u001b[0m         \u001b[38;5;129;01mand\u001b[39;00m \u001b[38;5;28many\u001b[39m(\u001b[38;5;28misinstance\u001b[39m(x, \u001b[38;5;28mslice\u001b[39m) \u001b[38;5;28;01mfor\u001b[39;00m x \u001b[38;5;129;01min\u001b[39;00m casted_key)\n\u001b[0;32m   3810\u001b[0m     ):\n\u001b[0;32m   3811\u001b[0m         \u001b[38;5;28;01mraise\u001b[39;00m InvalidIndexError(key)\n\u001b[1;32m-> 3812\u001b[0m     \u001b[38;5;28;01mraise\u001b[39;00m \u001b[38;5;167;01mKeyError\u001b[39;00m(key) \u001b[38;5;28;01mfrom\u001b[39;00m \u001b[38;5;21;01merr\u001b[39;00m\n\u001b[0;32m   3813\u001b[0m \u001b[38;5;28;01mexcept\u001b[39;00m \u001b[38;5;167;01mTypeError\u001b[39;00m:\n\u001b[0;32m   3814\u001b[0m     \u001b[38;5;66;03m# If we have a listlike key, _check_indexing_error will raise\u001b[39;00m\n\u001b[0;32m   3815\u001b[0m     \u001b[38;5;66;03m#  InvalidIndexError. Otherwise we fall through and re-raise\u001b[39;00m\n\u001b[0;32m   3816\u001b[0m     \u001b[38;5;66;03m#  the TypeError.\u001b[39;00m\n\u001b[0;32m   3817\u001b[0m     \u001b[38;5;28mself\u001b[39m\u001b[38;5;241m.\u001b[39m_check_indexing_error(key)\n",
      "\u001b[1;31mKeyError\u001b[0m: 'income'"
     ]
    }
   ],
   "source": [
    "std_dev = df['income'].std()\n",
    "range = df['income'].max() - df['income'].min()\n",
    "#if values are significant, then the incomes vary. and if the standard deviation is very low or the range is small, the variation is low "
   ]
  },
  {
   "cell_type": "markdown",
   "id": "b3914d5a",
   "metadata": {},
   "source": [
    "No.1c)"
   ]
  },
  {
   "cell_type": "markdown",
   "id": "6478bd83",
   "metadata": {},
   "source": [
    "There is no variability, so all incomes would be the same. it means;\n",
    "Standard deviation = 0 (because all values are the same).\n",
    "IQR = 0 (because Q1 and Q3 would be the same, resulting in no spread).\n"
   ]
  },
  {
   "cell_type": "markdown",
   "id": "e4920420",
   "metadata": {},
   "source": [
    "No.1d)"
   ]
  },
  {
   "cell_type": "markdown",
   "id": "4e49e6b2",
   "metadata": {},
   "source": [
    "If there's no variability, all incomes would be identical. that is;\n",
    "Mean = All incomes.\n",
    "Median = Same as the mean.\n",
    "Q1 = Same as the median.\n",
    "Q3 = Same as the median.\n",
    "Min = Same as the max\n"
   ]
  },
  {
   "cell_type": "markdown",
   "id": "2d6188bb",
   "metadata": {},
   "source": [
    "No.e)"
   ]
  },
  {
   "cell_type": "markdown",
   "id": "3f152b0f",
   "metadata": {},
   "source": [
    "We use the boxplots to look at how income varies is based on;\n",
    "Education level\n",
    "Region of the US \n",
    "#For instance, the higher education levels may correlate with higher income, and income may vary reginally. we explain the sources of the variability.\n"
   ]
  },
  {
   "cell_type": "code",
   "execution_count": null,
   "id": "1c9d2cc2",
   "metadata": {},
   "outputs": [],
   "source": []
  }
 ],
 "metadata": {
  "kernelspec": {
   "display_name": "Python 3",
   "language": "python",
   "name": "python3"
  },
  "language_info": {
   "codemirror_mode": {
    "name": "ipython",
    "version": 3
   },
   "file_extension": ".py",
   "mimetype": "text/x-python",
   "name": "python",
   "nbconvert_exporter": "python",
   "pygments_lexer": "ipython3",
   "version": "3.13.0"
  }
 },
 "nbformat": 4,
 "nbformat_minor": 5
}
